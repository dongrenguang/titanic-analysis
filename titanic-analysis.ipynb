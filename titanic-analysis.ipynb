{
 "cells": [
  {
   "cell_type": "markdown",
   "metadata": {
    "collapsed": true
   },
   "source": [
    "# 一、提出问题\n",
    "\n",
    "有哪些因素会让船上的人生还率更高？"
   ]
  },
  {
   "cell_type": "markdown",
   "metadata": {},
   "source": [
    "# 二、提出猜测\n",
    "\n",
    "对于上面提出的问题，提出了如下可能的8个因素：Pclass、Sex、Age、SibSp、Parch、Fare、Cabin、Embarked"
   ]
  },
  {
   "cell_type": "markdown",
   "metadata": {
    "collapsed": true
   },
   "source": [
    "# 三、数据处理 & 分析\n",
    "\n",
    "下面将分别对于上面的8个因素进行因果分析。"
   ]
  },
  {
   "cell_type": "code",
   "execution_count": 31,
   "metadata": {},
   "outputs": [
    {
     "name": "stdout",
     "output_type": "stream",
     "text": [
      "891\n"
     ]
    }
   ],
   "source": [
    "import pandas as pd\n",
    "\n",
    "data = pd.read_csv('./titanic-data.csv')\n",
    "\n",
    "# 填充值，方便后面计数\n",
    "data['count'] = 1\n",
    "\n",
    "# 总乘客数\n",
    "num = len(data)\n",
    "\n",
    "print num"
   ]
  },
  {
   "cell_type": "markdown",
   "metadata": {},
   "source": [
    "### 1. 乘客等级（Pclass）\n",
    "\n",
    "经过对数据进行观察，我发现乘客分为3个等级：1、2、3；然后计算出每个等级的幸存者数量和幸存率分别为：0.629630、0.472826、0.242363。\n",
    "\n",
    "由此可得出初步结论：**乘客等级与幸存率呈正相关性**。代码如下。"
   ]
  },
  {
   "cell_type": "code",
   "execution_count": 71,
   "metadata": {},
   "outputs": [
    {
     "name": "stdout",
     "output_type": "stream",
     "text": [
      "Populating the interactive namespace from numpy and matplotlib\n",
      "Pclass\n",
      "1    0.629630\n",
      "2    0.472826\n",
      "3    0.242363\n",
      "dtype: float64\n"
     ]
    },
    {
     "data": {
      "text/plain": [
       "<matplotlib.axes._subplots.AxesSubplot at 0x11bf2ac50>"
      ]
     },
     "execution_count": 71,
     "metadata": {},
     "output_type": "execute_result"
    },
    {
     "data": {
      "image/png": "[encoded data removed]",
      "text/plain": [
       "<matplotlib.figure.Figure at 0x11be6dc10>"
      ]
     },
     "metadata": {},
     "output_type": "display_data"
    }
   ],
   "source": [
    "%pylab inline\n",
    "import matplotlib.pyplot as plt\n",
    "import seaborn as sns\n",
    "\n",
    "result = data.groupby('Pclass').sum()['Survived'] / data.groupby('Pclass').sum()['count']\n",
    "\n",
    "print result\n",
    "result.plot()"
   ]
  },
  {
   "cell_type": "markdown",
   "metadata": {},
   "source": [
    "### 2. 性别（Sex）\n",
    "\n",
    "分别计算出男女的幸存率为：0.188908、0.742038。\n",
    "\n",
    "由此可得出初步结论：**女性的幸存率比男性大**。代码如下。"
   ]
  },
  {
   "cell_type": "code",
   "execution_count": 115,
   "metadata": {},
   "outputs": [
    {
     "name": "stdout",
     "output_type": "stream",
     "text": [
      "Sex\n",
      "female    0.742038\n",
      "male      0.188908\n",
      "dtype: float64\n"
     ]
    },
    {
     "data": {
      "text/plain": [
       "<Container object of 2 artists>"
      ]
     },
     "execution_count": 115,
     "metadata": {},
     "output_type": "execute_result"
    },
    {
     "data": {
      "image/png": "[encoded data removed]",
      "text/plain": [
       "<matplotlib.figure.Figure at 0x11ca37ed0>"
      ]
     },
     "metadata": {},
     "output_type": "display_data"
    }
   ],
   "source": [
    "result = data.groupby('Sex').sum()['Survived'] / data.groupby('Sex').sum()['count']\n",
    "print result\n",
    "\n",
    "plt.bar(range(len(result)), result,  width=0.5, tick_label = ['femail', 'male'])"
   ]
  },
  {
   "cell_type": "markdown",
   "metadata": {},
   "source": [
    "### 3. 年龄（Age）\n",
    "    \n",
    "分析可得，所有乘客的最大年龄是80岁，最小年龄是0.42岁。以10作为组距，将所有乘客进行分组。\n",
    "得到[0, 9]、[10, 19]、[20, 29]、[30, 39]、[40, 49]、[50, 59]、[60, 69]、[70, 79]、[80, 89]年龄段的乘客的存活率分别为：\n",
    "0.612903、0.401961、0.350000、0.437126、0.382022、0.416667、0.315789、0.0、1.0\n",
    "\n",
    "由此可得出初步结论：**幸存率与年龄没有显著关系**。代码如下。"
   ]
  },
  {
   "cell_type": "code",
   "execution_count": 96,
   "metadata": {},
   "outputs": [
    {
     "name": "stdout",
     "output_type": "stream",
     "text": [
      "count    714.000000\n",
      "mean      29.699118\n",
      "std       14.526497\n",
      "min        0.420000\n",
      "25%       20.125000\n",
      "50%       28.000000\n",
      "75%       38.000000\n",
      "max       80.000000\n",
      "Name: Age, dtype: float64\n",
      "          0\n",
      "0  0.612903\n",
      "1  0.401961\n",
      "2  0.350000\n",
      "3  0.437126\n",
      "4  0.382022\n",
      "5  0.416667\n",
      "6  0.315789\n",
      "7  0.000000\n",
      "8  1.000000\n"
     ]
    },
    {
     "data": {
      "image/png": "[encoded data removed]",
      "text/plain": [
       "<matplotlib.figure.Figure at 0x11ca97790>"
      ]
     },
     "metadata": {},
     "output_type": "display_data"
    }
   ],
   "source": [
    "print data['Age'].describe()\n",
    "\n",
    "n_age = [0] * 9\n",
    "n_s_age = [0] * 9\n",
    "for i in range(num):\n",
    "    age = data.iloc[i].Age\n",
    "    if not pd.isnull(age):\n",
    "        age_type = int(age / 10)\n",
    "        n_age[age_type] += 1\n",
    "        if data.iloc[i].Survived == 1:\n",
    "            n_s_age[age_type] += 1\n",
    "\n",
    "result = pd.DataFrame(n_s_age) / pd.DataFrame(n_age)\n",
    "print result\n",
    "\n",
    "plt.plot(range(len(result)), result)\n",
    "plt.show()"
   ]
  },
  {
   "cell_type": "markdown",
   "metadata": {},
   "source": [
    "### 4.  堂兄弟/妹个数（SibSp）\n",
    "\n",
    "分析可得，所有乘客中，堂兄弟/妹个数最多的有8个，最少的有0个。分别计算有0~8个堂兄弟/妹的乘客的幸存率为：\n",
    "0.345395、0.535885、0.464286、0.25、0.166667、0、NaN、NaN、0\n",
    "\n",
    "由此可得出初步结论：**堂兄弟/妹个数与幸存率呈负相关性**。"
   ]
  },
  {
   "cell_type": "code",
   "execution_count": 97,
   "metadata": {},
   "outputs": [
    {
     "name": "stdout",
     "output_type": "stream",
     "text": [
      "count    891.000000\n",
      "mean       0.523008\n",
      "std        1.102743\n",
      "min        0.000000\n",
      "25%        0.000000\n",
      "50%        0.000000\n",
      "75%        1.000000\n",
      "max        8.000000\n",
      "Name: SibSp, dtype: float64\n",
      "[608, 209, 28, 16, 18, 5, 0, 0, 7]\n",
      "[210, 112, 13, 4, 3, 0, 0, 0, 0]\n",
      "          0\n",
      "0  0.345395\n",
      "1  0.535885\n",
      "2  0.464286\n",
      "3  0.250000\n",
      "4  0.166667\n",
      "5  0.000000\n",
      "6       NaN\n",
      "7       NaN\n",
      "8  0.000000\n"
     ]
    },
    {
     "data": {
      "text/plain": [
       "<matplotlib.axes._subplots.AxesSubplot at 0x11c98bb50>"
      ]
     },
     "execution_count": 97,
     "metadata": {},
     "output_type": "execute_result"
    },
    {
     "data": {
      "image/png": "[encoded data removed]",
      "text/plain": [
       "<matplotlib.figure.Figure at 0x11cdcd450>"
      ]
     },
     "metadata": {},
     "output_type": "display_data"
    }
   ],
   "source": [
    "print data['SibSp'].describe()\n",
    "\n",
    "n_ss = [0] * 9\n",
    "n_s_ss = [0] * 9\n",
    "for i in range(num):\n",
    "    sib_sp = data.iloc[i].SibSp\n",
    "    if not pd.isnull(sib_sp):\n",
    "        n_ss[int(sib_sp)] += 1\n",
    "        if data.iloc[i].Survived == 1:\n",
    "            n_s_ss[int(sib_sp)] += 1\n",
    "print n_ss\n",
    "print n_s_ss\n",
    "result = pd.DataFrame(n_s_ss) / pd.DataFrame(n_ss)\n",
    "print result\n",
    "result.plot()"
   ]
  },
  {
   "cell_type": "markdown",
   "metadata": {},
   "source": [
    "### 5. 父母与小孩个数（Parch）\n",
    "\n",
    "分析可得，所有乘客中，父母与小孩个数最多的有6个，最少的有0个。分别计算有0~6个父母与小孩的乘客的幸存率为：\n",
    "0.343658、0.550847、0.5、0.6、0、0.2、0\n",
    "\n",
    "综合考虑有不同父母与小孩个数的乘客的数量，和幸存率，可得出初步结论：**父母和小孩个数，与幸存率呈正相关性**。代码如下。"
   ]
  },
  {
   "cell_type": "code",
   "execution_count": 98,
   "metadata": {},
   "outputs": [
    {
     "name": "stdout",
     "output_type": "stream",
     "text": [
      "count    891.000000\n",
      "mean       0.381594\n",
      "std        0.806057\n",
      "min        0.000000\n",
      "25%        0.000000\n",
      "50%        0.000000\n",
      "75%        0.000000\n",
      "max        6.000000\n",
      "Name: Parch, dtype: float64\n",
      "[233, 65, 40, 3, 0, 1, 0]\n",
      "[678, 118, 80, 5, 4, 5, 1]\n",
      "          0\n",
      "0  0.343658\n",
      "1  0.550847\n",
      "2  0.500000\n",
      "3  0.600000\n",
      "4  0.000000\n",
      "5  0.200000\n",
      "6  0.000000\n"
     ]
    },
    {
     "data": {
      "text/plain": [
       "<matplotlib.axes._subplots.AxesSubplot at 0x11c7a5250>"
      ]
     },
     "execution_count": 98,
     "metadata": {},
     "output_type": "execute_result"
    },
    {
     "data": {
      "image/png": "[encoded data removed]",
      "text/plain": [
       "<matplotlib.figure.Figure at 0x11c967910>"
      ]
     },
     "metadata": {},
     "output_type": "display_data"
    }
   ],
   "source": [
    "print data['Parch'].describe()\n",
    "\n",
    "n_ph = [0] * 7\n",
    "n_s_ph = [0] * 7\n",
    "for i in range(num):\n",
    "    parch = data.iloc[i].Parch\n",
    "    if not pd.isnull(parch):\n",
    "        n_ph[int(parch)] += 1\n",
    "        if data.iloc[i].Survived == 1:\n",
    "            n_s_ph[int(parch)] += 1\n",
    "            \n",
    "print n_s_ph\n",
    "print n_ph\n",
    "result = pd.DataFrame(n_s_ph) / pd.DataFrame(n_ph)\n",
    "print result\n",
    "result.plot()"
   ]
  },
  {
   "cell_type": "markdown",
   "metadata": {},
   "source": [
    "### 6. 票价（Fare）\n",
    "\n",
    "分析可得，所有乘客中，票价最低为0，最高为max。以100为组距，分别算得票价在区间[0, 100)、[100, 200)、[200, 300)、[300, 400)、[400, 500)、[500, 600)的幸存率分别为： 0.361575、0.757576、0.647059、NaN、NaN、1。\n",
    "\n",
    "由此可得出初步结论：**票价与幸存率呈正相关性**。"
   ]
  },
  {
   "cell_type": "code",
   "execution_count": 108,
   "metadata": {},
   "outputs": [
    {
     "name": "stdout",
     "output_type": "stream",
     "text": [
      "count    891.000000\n",
      "mean      32.204208\n",
      "std       49.693429\n",
      "min        0.000000\n",
      "25%        7.910400\n",
      "50%       14.454200\n",
      "75%       31.000000\n",
      "max      512.329200\n",
      "Name: Fare, dtype: float64\n",
      "[303, 25, 11, 0, 0, 3]\n",
      "[838, 33, 17, 0, 0, 3]\n",
      "          0\n",
      "0  0.361575\n",
      "1  0.757576\n",
      "2  0.647059\n",
      "3       NaN\n",
      "4       NaN\n",
      "5  1.000000\n"
     ]
    },
    {
     "data": {
      "text/plain": [
       "<matplotlib.axes._subplots.AxesSubplot at 0x11d525b90>"
      ]
     },
     "execution_count": 108,
     "metadata": {},
     "output_type": "execute_result"
    },
    {
     "data": {
      "image/png": "[encoded data removed]",
      "text/plain": [
       "<matplotlib.figure.Figure at 0x11d544310>"
      ]
     },
     "metadata": {},
     "output_type": "display_data"
    }
   ],
   "source": [
    "print data['Fare'].describe()\n",
    "\n",
    "n_f = [0] * 6\n",
    "n_s_f = [0] * 6\n",
    "for i in range(num):\n",
    "    fare = data.iloc[i].Fare\n",
    "    if not pd.isnull(fare):\n",
    "        n_f[int(fare / 100)] += 1\n",
    "        if data.iloc[i].Survived == 1:\n",
    "            n_s_f[int(fare / 100)] += 1\n",
    "            \n",
    "print n_s_f\n",
    "print n_f\n",
    "result = pd.DataFrame(n_s_f) / pd.DataFrame(n_f)\n",
    "print result\n",
    "\n",
    "result.plot()"
   ]
  },
  {
   "cell_type": "markdown",
   "metadata": {},
   "source": [
    "### 7. 客舱（Cabin）\n",
    "\n",
    "分析可得出初步结论：**幸存率与客舱没有显著关系**。"
   ]
  },
  {
   "cell_type": "code",
   "execution_count": 62,
   "metadata": {},
   "outputs": [
    {
     "name": "stdout",
     "output_type": "stream",
     "text": [
      "<bound method DataFrame.count of        PassengerId  Survived  Pclass    Age  SibSp  Parch      Fare  count\n",
      "Cabin                                                                     \n",
      "A10            584         0       1   36.0      0      0   40.1250      1\n",
      "A14            476         0       1    NaN      0      0   52.0000      1\n",
      "A16            557         1       1   48.0      1      0   39.6000      1\n",
      "A19            285         0       1    NaN      0      0   26.0000      1\n",
      "A20            600         1       1   49.0      1      0   56.9292      1\n",
      "A23            631         1       1   80.0      0      0   30.0000      1\n",
      "A24            868         0       1   31.0      0      0   50.4958      1\n",
      "A26            648         1       1   56.0      0      0   35.5000      1\n",
      "A31            210         1       1   40.0      0      0   31.0000      1\n",
      "A32            186         0       1    NaN      0      0   50.0000      1\n",
      "A34            446         1       1    4.0      0      2   81.8583      1\n",
      "A36            807         0       1   39.0      0      0    0.0000      1\n",
      "A5              97         0       1   71.0      0      0   34.6542      1\n",
      "A6              24         1       1   28.0      0      0   35.5000      1\n",
      "A7             175         0       1   56.0      0      0   30.6958      1\n",
      "B101           738         1       1   35.0      0      0  512.3292      1\n",
      "B102           816         0       1    NaN      0      0    0.0000      1\n",
      "B18            854         2       2   60.0      0      2  115.9584      2\n",
      "B19            171         0       1   61.0      0      0   33.5000      1\n",
      "B20           1473         2       2   48.0      2      0  114.0000      2\n",
      "B22           1287         1       2  106.0      1      3  142.0000      2\n",
      "B28            892         2       2  100.0      0      0  160.0000      2\n",
      "B3             780         1       1   43.0      0      1  211.3375      1\n",
      "B30             55         0       1   65.0      0      1   61.9792      1\n",
      "B35           1012         2       2   48.0      0      0  138.6000      2\n",
      "B37            488         0       1   58.0      0      0   29.7000      1\n",
      "B38            537         0       1   45.0      0      0   26.5500      1\n",
      "B39            540         1       1   22.0      0      2   49.5000      1\n",
      "B4             195         1       1   44.0      0      0   27.7208      1\n",
      "B41            588         1       1   60.0      1      1   79.2000      1\n",
      "...            ...       ...     ...    ...    ...    ...       ...    ...\n",
      "E12            461         1       1   48.0      0      0   26.5500      1\n",
      "E121          1576         2       6   33.0      0      2   24.9500      2\n",
      "E17            858         1       1   51.0      0      0   26.5500      1\n",
      "E24           1410         2       2   77.0      0      0   52.5750      2\n",
      "E25           1086         2       2   72.0      0      0   52.6750      2\n",
      "E31             93         0       1   46.0      1      0   61.1750      1\n",
      "E33            524         2       2   22.0      0      2  110.0000      2\n",
      "E34            320         1       1   40.0      1      1  134.5000      1\n",
      "E36            310         1       1   30.0      0      0   56.9292      1\n",
      "E38            457         0       1   65.0      0      0   26.5500      1\n",
      "E40            338         1       1   41.0      0      0  134.5000      1\n",
      "E44           1013         1       2   89.0      2      0  111.8000      2\n",
      "E46              7         0       1   54.0      0      0   51.8625      1\n",
      "E49            836         1       1   39.0      1      1   83.1583      1\n",
      "E50            371         1       1   25.0      1      0   55.4417      1\n",
      "E58            663         0       1   47.0      0      0   25.5875      1\n",
      "E63            463         0       1   47.0      0      0   38.5000      1\n",
      "E67            822         1       2   91.0      2      2  159.3000      2\n",
      "E68            586         1       1   18.0      0      2   79.6500      1\n",
      "E77            773         0       2   57.0      0      0   10.5000      1\n",
      "E8            1535         2       2   60.0      2      0  106.2000      2\n",
      "F E69          129         1       3    NaN      1      1   22.3583      1\n",
      "F G63          700         0       3   42.0      0      0    7.6500      1\n",
      "F G73          792         0       6   44.0      0      0   15.3000      2\n",
      "F2             684         2       6   41.5      2      4   78.0000      3\n",
      "F33            930         3       6   87.0      0      0   34.0000      3\n",
      "F38            777         0       3    NaN      0      0    7.7500      1\n",
      "F4             803         2       4    5.0      4      2   78.0000      2\n",
      "G6             864         2      12   59.0      2      5   54.3250      4\n",
      "T              340         0       1   45.0      0      0   35.5000      1\n",
      "\n",
      "[147 rows x 8 columns]>\n"
     ]
    }
   ],
   "source": [
    "print data.groupby('Cabin').sum().count"
   ]
  },
  {
   "cell_type": "markdown",
   "metadata": {},
   "source": [
    "### 8. 登船港口（Embarked）\n",
    "\n",
    "分析可得出初步结论：**幸存率与登船港口没有显著关系**。"
   ]
  },
  {
   "cell_type": "code",
   "execution_count": 63,
   "metadata": {},
   "outputs": [
    {
     "name": "stdout",
     "output_type": "stream",
     "text": [
      "<bound method DataFrame.count of        PassengerId  Survived  Pclass    Age  SibSp  Parch      Fare  count\n",
      "Cabin                                                                     \n",
      "A10            584         0       1   36.0      0      0   40.1250      1\n",
      "A14            476         0       1    NaN      0      0   52.0000      1\n",
      "A16            557         1       1   48.0      1      0   39.6000      1\n",
      "A19            285         0       1    NaN      0      0   26.0000      1\n",
      "A20            600         1       1   49.0      1      0   56.9292      1\n",
      "A23            631         1       1   80.0      0      0   30.0000      1\n",
      "A24            868         0       1   31.0      0      0   50.4958      1\n",
      "A26            648         1       1   56.0      0      0   35.5000      1\n",
      "A31            210         1       1   40.0      0      0   31.0000      1\n",
      "A32            186         0       1    NaN      0      0   50.0000      1\n",
      "A34            446         1       1    4.0      0      2   81.8583      1\n",
      "A36            807         0       1   39.0      0      0    0.0000      1\n",
      "A5              97         0       1   71.0      0      0   34.6542      1\n",
      "A6              24         1       1   28.0      0      0   35.5000      1\n",
      "A7             175         0       1   56.0      0      0   30.6958      1\n",
      "B101           738         1       1   35.0      0      0  512.3292      1\n",
      "B102           816         0       1    NaN      0      0    0.0000      1\n",
      "B18            854         2       2   60.0      0      2  115.9584      2\n",
      "B19            171         0       1   61.0      0      0   33.5000      1\n",
      "B20           1473         2       2   48.0      2      0  114.0000      2\n",
      "B22           1287         1       2  106.0      1      3  142.0000      2\n",
      "B28            892         2       2  100.0      0      0  160.0000      2\n",
      "B3             780         1       1   43.0      0      1  211.3375      1\n",
      "B30             55         0       1   65.0      0      1   61.9792      1\n",
      "B35           1012         2       2   48.0      0      0  138.6000      2\n",
      "B37            488         0       1   58.0      0      0   29.7000      1\n",
      "B38            537         0       1   45.0      0      0   26.5500      1\n",
      "B39            540         1       1   22.0      0      2   49.5000      1\n",
      "B4             195         1       1   44.0      0      0   27.7208      1\n",
      "B41            588         1       1   60.0      1      1   79.2000      1\n",
      "...            ...       ...     ...    ...    ...    ...       ...    ...\n",
      "E12            461         1       1   48.0      0      0   26.5500      1\n",
      "E121          1576         2       6   33.0      0      2   24.9500      2\n",
      "E17            858         1       1   51.0      0      0   26.5500      1\n",
      "E24           1410         2       2   77.0      0      0   52.5750      2\n",
      "E25           1086         2       2   72.0      0      0   52.6750      2\n",
      "E31             93         0       1   46.0      1      0   61.1750      1\n",
      "E33            524         2       2   22.0      0      2  110.0000      2\n",
      "E34            320         1       1   40.0      1      1  134.5000      1\n",
      "E36            310         1       1   30.0      0      0   56.9292      1\n",
      "E38            457         0       1   65.0      0      0   26.5500      1\n",
      "E40            338         1       1   41.0      0      0  134.5000      1\n",
      "E44           1013         1       2   89.0      2      0  111.8000      2\n",
      "E46              7         0       1   54.0      0      0   51.8625      1\n",
      "E49            836         1       1   39.0      1      1   83.1583      1\n",
      "E50            371         1       1   25.0      1      0   55.4417      1\n",
      "E58            663         0       1   47.0      0      0   25.5875      1\n",
      "E63            463         0       1   47.0      0      0   38.5000      1\n",
      "E67            822         1       2   91.0      2      2  159.3000      2\n",
      "E68            586         1       1   18.0      0      2   79.6500      1\n",
      "E77            773         0       2   57.0      0      0   10.5000      1\n",
      "E8            1535         2       2   60.0      2      0  106.2000      2\n",
      "F E69          129         1       3    NaN      1      1   22.3583      1\n",
      "F G63          700         0       3   42.0      0      0    7.6500      1\n",
      "F G73          792         0       6   44.0      0      0   15.3000      2\n",
      "F2             684         2       6   41.5      2      4   78.0000      3\n",
      "F33            930         3       6   87.0      0      0   34.0000      3\n",
      "F38            777         0       3    NaN      0      0    7.7500      1\n",
      "F4             803         2       4    5.0      4      2   78.0000      2\n",
      "G6             864         2      12   59.0      2      5   54.3250      4\n",
      "T              340         0       1   45.0      0      0   35.5000      1\n",
      "\n",
      "[147 rows x 8 columns]>\n"
     ]
    }
   ],
   "source": [
    "print data.groupby('Cabin').sum().count"
   ]
  },
  {
   "cell_type": "markdown",
   "metadata": {
    "collapsed": true
   },
   "source": [
    "# 四、结论\n",
    "\n",
    "总结上面提出的8个可能因素与幸存率之间的关系如下：\n",
    "1. 乘客等级与幸存率呈正相关性\n",
    "2. 女性的幸存率比男性大\n",
    "3. 幸存率与年龄没有显著关系\n",
    "4. 堂兄弟/妹个数与幸存率呈负相关性\n",
    "5. 父母和小孩个数，与幸存率呈正相关性\n",
    "6. 票价与幸存率呈正相关性\n",
    "7. 幸存率与客舱没有显著关系\n",
    "8. 幸存率与登船港口没有显著关系\n",
    "\n",
    "所以，跟幸存率相关的因素有：**乘客等级、性别、堂兄弟/妹个数、父母和小孩个数、票价**。"
   ]
  },
  {
   "cell_type": "markdown",
   "metadata": {},
   "source": [
    "# 参考资料\n",
    "\n",
    "[1] http://blog.csdn.net/u013457382/article/details/50827454\n",
    "\n",
    "[2] https://zhuanlan.zhihu.com/p/25128216\n",
    "\n",
    "[3] 《Python基础教程》\n"
   ]
  }
 ],
 "metadata": {
  "kernelspec": {
   "display_name": "Python 2",
   "language": "python",
   "name": "python2"
  },
  "language_info": {
   "codemirror_mode": {
    "name": "ipython",
    "version": 2
   },
   "file_extension": ".py",
   "mimetype": "text/x-python",
   "name": "python",
   "nbconvert_exporter": "python",
   "pygments_lexer": "ipython2",
   "version": "2.7.13"
  }
 },
 "nbformat": 4,
 "nbformat_minor": 2
}
